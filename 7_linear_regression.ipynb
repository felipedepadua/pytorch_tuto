{
 "cells": [
  {
   "cell_type": "code",
   "execution_count": 34,
   "metadata": {},
   "outputs": [],
   "source": [
    "# 1) Design model (input size, output size, forward pass)\n",
    "# 2) Costruct the Loss and Optimizer\n",
    "# 3) Training loop\n",
    "#       - Forward pass: compute prediction\n",
    "#       - Backward pass: compure gradients\n",
    "#       - Update our weights\n",
    "#       - Iterate this a couple of times (epochs)\n",
    "\n",
    "import torch\n",
    "import torch.nn as nn\n",
    "import numpy as np\n",
    "from sklearn import datasets\n",
    "import matplotlib.pyplot as plt"
   ]
  },
  {
   "cell_type": "code",
   "execution_count": 35,
   "metadata": {},
   "outputs": [
    {
     "name": "stdout",
     "output_type": "stream",
     "text": [
      "(100, 1)\n",
      "(100,)\n",
      "torch.Size([100, 1])\n"
     ]
    }
   ],
   "source": [
    "# 0) Prepare our data\n",
    "X_numpy, Y_numpy = datasets.make_regression(n_samples=100, n_features=1, noise=20, random_state=1)  # Generate some random samples according to your specifications\n",
    "print(X_numpy.shape)\n",
    "print(Y_numpy.shape)\n",
    "\n",
    "# convert to torch tensor\n",
    "X = torch.from_numpy(X_numpy.astype(np.float32)) # this conversion to np.float32 was to avoid some type error later\n",
    "\n",
    "Y = torch.from_numpy(Y_numpy.astype(np.float32))\n",
    "Y = Y.view(Y.shape[0], 1) # Y only has one row, we want to make it a column vector [view() is a function to reshape our tensor]\n",
    "print(Y.shape)\n",
    "\n",
    "n_samples, n_features = X.shape # 100, 1"
   ]
  },
  {
   "cell_type": "code",
   "execution_count": 36,
   "metadata": {},
   "outputs": [],
   "source": [
    "# 1) Model\n",
    "input_size = n_features\n",
    "output_size = 1\n",
    "\n",
    "model = nn.Linear(input_size, output_size)"
   ]
  },
  {
   "cell_type": "code",
   "execution_count": 37,
   "metadata": {},
   "outputs": [],
   "source": [
    "# 2) Loss and Optimizer\n",
    "learning_rate = 0.01\n",
    "criterion = nn.MSELoss()\n",
    "optimizer = torch.optim.SGD(model.parameters(), lr=learning_rate)"
   ]
  },
  {
   "cell_type": "code",
   "execution_count": 38,
   "metadata": {},
   "outputs": [
    {
     "name": "stdout",
     "output_type": "stream",
     "text": [
      "epoch: 10, loss: 4307.4043\n",
      "epoch: 20, loss: 3215.3140\n",
      "epoch: 30, loss: 2425.1421\n",
      "epoch: 40, loss: 1852.8091\n",
      "epoch: 50, loss: 1437.8503\n",
      "epoch: 60, loss: 1136.7169\n",
      "epoch: 70, loss: 918.0011\n",
      "epoch: 80, loss: 759.0227\n",
      "epoch: 90, loss: 643.3829\n",
      "epoch: 100, loss: 559.2119\n"
     ]
    },
    {
     "data": {
      "image/png": "[encoded data removed]",
      "text/plain": [
       "<Figure size 640x480 with 1 Axes>"
      ]
     },
     "metadata": {},
     "output_type": "display_data"
    }
   ],
   "source": [
    "# 3) Training Loop\n",
    "num_epochs = 100\n",
    "\n",
    "for epoch in range(num_epochs):\n",
    "    # Forward pass and loss\n",
    "    y_predicted = model(X)\n",
    "    loss = criterion(y_predicted, Y)\n",
    "\n",
    "    # Backward pass (backpropagation)\n",
    "    loss.backward()\n",
    "\n",
    "    # update\n",
    "    optimizer.step() # update the weights\n",
    "\n",
    "    optimizer.zero_grad() # empty the gradients\n",
    "\n",
    "    if (epoch + 1) % 10 == 0:\n",
    "        print(f\"epoch: {epoch+1}, loss: {loss.item():.4f}\")\n",
    "\n",
    "\n",
    "# Plot\n",
    "\n",
    "# call our final model\n",
    "predicted = model(X).detach().numpy() # We want to convert to numpy.  PS: detach() will generate a new tensor with 'gradient_cal' attribute as false\n",
    "\n",
    "plt.plot(X_numpy, Y_numpy, 'ro')\n",
    "plt.plot(X_numpy, predicted, 'b')\n",
    "plt.show()"
   ]
  },
  {
   "cell_type": "code",
   "execution_count": null,
   "metadata": {},
   "outputs": [],
   "source": []
  }
 ],
 "metadata": {
  "kernelspec": {
   "display_name": "pytorch_tuto",
   "language": "python",
   "name": "python3"
  },
  "language_info": {
   "codemirror_mode": {
    "name": "ipython",
    "version": 3
   },
   "file_extension": ".py",
   "mimetype": "text/x-python",
   "name": "python",
   "nbconvert_exporter": "python",
   "pygments_lexer": "ipython3",
   "version": "3.10.9"
  },
  "orig_nbformat": 4,
  "vscode": {
   "interpreter": {
    "hash": "13c53d24e4d88d3a912c0a93e107616508f30ae1ad473cd537d575b47c4ae4a7"
   }
  }
 },
 "nbformat": 4,
 "nbformat_minor": 2
}
