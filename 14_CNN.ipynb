{
 "cells": [
  {
   "cell_type": "code",
   "execution_count": 1,
   "metadata": {},
   "outputs": [],
   "source": [
    "import torch\n",
    "import torch.nn as nn\n",
    "import torch.nn.functional as F\n",
    "import torchvision\n",
    "import torchvision.transforms as T\n",
    "import matplotlib.pyplot as plt\n",
    "import numpy as np"
   ]
  },
  {
   "cell_type": "code",
   "execution_count": 2,
   "metadata": {},
   "outputs": [],
   "source": [
    "# Device config\n",
    "device = torch.device('cuda' if torch.cuda.is_available() else 'cpu')"
   ]
  },
  {
   "cell_type": "code",
   "execution_count": 3,
   "metadata": {},
   "outputs": [],
   "source": [
    "# Hyper-parameters\n",
    "num_epochs = 4\n",
    "batch_size = 4\n",
    "learning_rate = 0.001"
   ]
  },
  {
   "cell_type": "code",
   "execution_count": 4,
   "metadata": {},
   "outputs": [],
   "source": [
    "# Dataset has PILImage images of range [0,1]\n",
    "# We transform them to Tensors of normalized range [-1, 1]\n",
    "transform = T.Compose(\n",
    "    [\n",
    "        T.ToTensor(),\n",
    "        T.Normalize((0.5, 0.5, 0.5), (0.5, 0.5, 0.5))\n",
    "    ]\n",
    ")"
   ]
  },
  {
   "cell_type": "code",
   "execution_count": 5,
   "metadata": {},
   "outputs": [
    {
     "name": "stderr",
     "output_type": "stream",
     "text": [
      "0.0%"
     ]
    },
    {
     "name": "stdout",
     "output_type": "stream",
     "text": [
      "Downloading https://www.cs.toronto.edu/~kriz/cifar-10-python.tar.gz to ./data\\cifar-10-python.tar.gz\n"
     ]
    },
    {
     "name": "stderr",
     "output_type": "stream",
     "text": [
      "100.0%\n"
     ]
    },
    {
     "name": "stdout",
     "output_type": "stream",
     "text": [
      "Extracting ./data\\cifar-10-python.tar.gz to ./data\n",
      "Files already downloaded and verified\n"
     ]
    }
   ],
   "source": [
    "train_dataset = torchvision.datasets.CIFAR10(\n",
    "    root='./data',\n",
    "    train=True,\n",
    "    download=True,\n",
    "    transform=transform\n",
    ")\n",
    "\n",
    "test_dataset = torchvision.datasets.CIFAR10(\n",
    "    root='./data',\n",
    "    train=False,\n",
    "    download=True,\n",
    "    transform=transform\n",
    ")\n",
    "\n",
    "train_loader = torch.utils.data.DataLoader(train_dataset, batch_size=batch_size, shuffle=True)\n",
    "\n",
    "test_loader = torch.utils.data.DataLoader(test_dataset, batch_size=batch_size, shuffle=False)"
   ]
  },
  {
   "cell_type": "code",
   "execution_count": 6,
   "metadata": {},
   "outputs": [],
   "source": [
    "classes = ('plane', 'car', 'bird', 'cat', 'deer', 'dog', 'frog', 'horse', 'ship', 'truck')"
   ]
  },
  {
   "cell_type": "code",
   "execution_count": 9,
   "metadata": {},
   "outputs": [],
   "source": [
    "# Implement ConvNet (aka CNN)\n",
    "class ConvNet(nn.Module):\n",
    "    def __init__(self):\n",
    "        super(ConvNet, self).__init__()\n",
    "        # [VI] https://pytorch.org/docs/stable/generated/torch.nn.Conv2d.html\n",
    "        self.conv1 = nn.Conv2d(3, 6, 5) # channel size, output size, kernel size [5-by-5] [PS: We wont customize padding and strides here - just the default]\n",
    "        self.pool = nn.MaxPool2d(2, 2) # kerne size, stride\n",
    "        self.conv2 = nn.Conv2d(6, 16, 5) # input size must be the same as the last output size (from self.conv1)\n",
    "        # Now let's add the fully-connected layers\n",
    "        self.fc1 = nn.Linear(16*5*5, 120) # input size [See video starting around 13:00 - 17:00 to see why], output size (You can try any value)\n",
    "        self.fc2 = nn.Linear(120, 84) # output size can also be any value\n",
    "        self.fc3 = nn.Linear(84, 10) # output must be 10 since we have 10 different classes \n",
    "\n",
    "    def forward(self, x):\n",
    "        x = self.pool(F.relu(self.conv1(x))) # first conv layer\n",
    "        x = self.pool(F.relu(self.conv2(x))) # second conv layer\n",
    "        # Now pass it to the first fully-connected layer\n",
    "        x = x.view(-1, 16*5*5) # flatten it\n",
    "        x = F.relu(self.fc1(x))\n",
    "        x = F.relu(self.fc2(x))\n",
    "        x = self.fc3(x) # no activation function needed (sofmtax will already be applied 'nn.CrossEntropyLoss')\n",
    "        return x"
   ]
  },
  {
   "cell_type": "code",
   "execution_count": 10,
   "metadata": {},
   "outputs": [],
   "source": [
    "model = ConvNet().to(device)\n",
    "\n",
    "criterion = nn.CrossEntropyLoss()\n",
    "optmizer = torch.optim.SGD(model.parameters(), lr=learning_rate)"
   ]
  },
  {
   "cell_type": "code",
   "execution_count": 11,
   "metadata": {},
   "outputs": [
    {
     "name": "stdout",
     "output_type": "stream",
     "text": [
      "Epoch [1/4], Step [2000/12500], Loss: 2.2857\n",
      "Epoch [1/4], Step [4000/12500], Loss: 2.3171\n",
      "Epoch [1/4], Step [6000/12500], Loss: 2.3209\n",
      "Epoch [1/4], Step [8000/12500], Loss: 2.2898\n",
      "Epoch [1/4], Step [10000/12500], Loss: 2.3501\n",
      "Epoch [1/4], Step [12000/12500], Loss: 2.3118\n",
      "Epoch [2/4], Step [2000/12500], Loss: 2.0760\n",
      "Epoch [2/4], Step [4000/12500], Loss: 1.6644\n",
      "Epoch [2/4], Step [6000/12500], Loss: 2.6618\n",
      "Epoch [2/4], Step [8000/12500], Loss: 2.1372\n",
      "Epoch [2/4], Step [10000/12500], Loss: 1.2589\n",
      "Epoch [2/4], Step [12000/12500], Loss: 1.5953\n",
      "Epoch [3/4], Step [2000/12500], Loss: 2.9272\n",
      "Epoch [3/4], Step [4000/12500], Loss: 2.3455\n",
      "Epoch [3/4], Step [6000/12500], Loss: 1.6517\n",
      "Epoch [3/4], Step [8000/12500], Loss: 1.8119\n",
      "Epoch [3/4], Step [10000/12500], Loss: 1.0731\n",
      "Epoch [3/4], Step [12000/12500], Loss: 1.4473\n",
      "Epoch [4/4], Step [2000/12500], Loss: 1.9019\n",
      "Epoch [4/4], Step [4000/12500], Loss: 1.6949\n",
      "Epoch [4/4], Step [6000/12500], Loss: 1.8215\n",
      "Epoch [4/4], Step [8000/12500], Loss: 1.4959\n",
      "Epoch [4/4], Step [10000/12500], Loss: 1.9332\n",
      "Epoch [4/4], Step [12000/12500], Loss: 1.7102\n",
      "Finished training\n"
     ]
    }
   ],
   "source": [
    "n_total_steps = len(train_loader)\n",
    "\n",
    "# Training\n",
    "for epoch in range(num_epochs):\n",
    "    for i, (images, labels) in enumerate(train_loader):\n",
    "        # origin shape: [4, 3, 32, 32] = 4, 3, 1024  (4 images in batch, 3 channels [RGB], 2D image)\n",
    "        # input_layer: 3 input channels, 6 output channels, 5 kernel size\n",
    "        images = images.to(device)\n",
    "        labels = labels.to(device)\n",
    "\n",
    "        # forward pass\n",
    "        outputs = model(images)\n",
    "        loss = criterion(outputs, labels)\n",
    "\n",
    "        # Backward and optimize\n",
    "        optmizer.zero_grad()\n",
    "        loss.backward()\n",
    "        optmizer.step()\n",
    "\n",
    "        if (i+1) % 2000 == 0:\n",
    "            print(f'Epoch [{epoch+1}/{num_epochs}], Step [{i+1}/{n_total_steps}], Loss: {loss.item():.4f}')\n",
    "\n",
    "print('Finished training') # PS: this will take a few minutes"
   ]
  },
  {
   "cell_type": "code",
   "execution_count": 12,
   "metadata": {},
   "outputs": [
    {
     "name": "stdout",
     "output_type": "stream",
     "text": [
      "Accuracy of the network: 45.11%\n",
      "Accuracy of plane: 63.4%\n",
      "Accuracy of car: 52.9%\n",
      "Accuracy of bird: 20.5%\n",
      "Accuracy of cat: 38.4%\n",
      "Accuracy of deer: 33.1%\n",
      "Accuracy of dog: 28.0%\n",
      "Accuracy of frog: 59.3%\n",
      "Accuracy of horse: 63.3%\n",
      "Accuracy of ship: 44.0%\n",
      "Accuracy of truck: 48.2%\n"
     ]
    }
   ],
   "source": [
    "# Evaluate the model\n",
    "with torch.no_grad():\n",
    "    n_correct = 0\n",
    "    n_samples = 0\n",
    "    n_class_correct = [0 for i in range(10)]\n",
    "    n_class_samples = [0 for i in range(10)]\n",
    "\n",
    "    for images, labels in test_loader:\n",
    "        images = images.to(device)\n",
    "        labels = labels.to(device)\n",
    "        outputs = model(images)\n",
    "        # torch.max returns (value, index)\n",
    "        _, predicted = torch.max(outputs, 1)\n",
    "        n_samples += labels.size(0)\n",
    "        n_correct += (predicted == labels).sum().item()\n",
    "\n",
    "        for i in range(batch_size):\n",
    "            label = labels[i]\n",
    "            pred = predicted[i]\n",
    "            if(label == pred):\n",
    "                n_class_correct[label] += 1\n",
    "            n_class_samples[label] += 1\n",
    "\n",
    "    acc = 100.0 * n_correct / n_samples\n",
    "    print(f'Accuracy of the network: {acc}%')\n",
    "\n",
    "    for i in range(10):\n",
    "        acc = 100.0 * n_class_correct[i] / n_class_samples[i]\n",
    "        print(f'Accuracy of {classes[i]}: {acc}%')"
   ]
  },
  {
   "cell_type": "code",
   "execution_count": null,
   "metadata": {},
   "outputs": [],
   "source": [
    "# PS, the accuracy was very low, mostly because we only did 4 epochs"
   ]
  }
 ],
 "metadata": {
  "kernelspec": {
   "display_name": "pytorch_tuto",
   "language": "python",
   "name": "python3"
  },
  "language_info": {
   "codemirror_mode": {
    "name": "ipython",
    "version": 3
   },
   "file_extension": ".py",
   "mimetype": "text/x-python",
   "name": "python",
   "nbconvert_exporter": "python",
   "pygments_lexer": "ipython3",
   "version": "3.10.9"
  },
  "orig_nbformat": 4,
  "vscode": {
   "interpreter": {
    "hash": "13c53d24e4d88d3a912c0a93e107616508f30ae1ad473cd537d575b47c4ae4a7"
   }
  }
 },
 "nbformat": 4,
 "nbformat_minor": 2
}
