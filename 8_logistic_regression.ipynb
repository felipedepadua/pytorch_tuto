{
 "cells": [
  {
   "cell_type": "code",
   "execution_count": 1,
   "metadata": {},
   "outputs": [],
   "source": [
    "# 1) Design model (input size, output size, forward pass)\n",
    "# 2) Costruct the Loss and Optimizer\n",
    "# 3) Training loop\n",
    "#       - Forward pass: compute prediction\n",
    "#       - Backward pass: compure gradients\n",
    "#       - Update our weights\n",
    "#       - Iterate this a couple of times (epochs)\n",
    "\n",
    "import torch\n",
    "import torch.nn as nn\n",
    "import numpy as np\n",
    "from sklearn import datasets\n",
    "from sklearn.preprocessing import StandardScaler # we want to scale our features\n",
    "from sklearn.model_selection import train_test_split\n",
    "import matplotlib.pyplot as plt"
   ]
  },
  {
   "cell_type": "code",
   "execution_count": 3,
   "metadata": {},
   "outputs": [
    {
     "name": "stdout",
     "output_type": "stream",
     "text": [
      "(569, 30)\n"
     ]
    }
   ],
   "source": [
    "# 0) Prepare the data\n",
    "\n",
    "bc = datasets.load_breast_cancer() # This is a binary classification problem\n",
    "X, y = bc.data, bc.target\n",
    "\n",
    "print(X.shape) # 569 samples and 30 features [aka independent variables]\n",
    "n_samples, n_features = X.shape\n",
    "\n",
    "X_train, X_test, y_train, y_test = train_test_split(X, y, test_size=0.2, random_state=1234) # 20% test size\n",
    "\n",
    "# scale our features (PS: we do not do this for Y as it it will be applied the Sigmoid function)\n",
    "sc = StandardScaler()\n",
    "X_train = sc.fit_transform(X_train)\n",
    "X_test = sc.transform(X_test) # fit_transform VS transform: https://towardsdatascience.com/what-and-why-behind-fit-transform-vs-transform-in-scikit-learn-78f915cf96fe\n",
    "\n",
    "X_train = torch.from_numpy(X_train.astype(np.float32))\n",
    "X_test = torch.from_numpy(X_test.astype(np.float32))\n",
    "y_train = torch.from_numpy(y_train.astype(np.float32))\n",
    "y_test = torch.from_numpy(y_test.astype(np.float32))\n",
    "\n",
    "# Reshape Y - From (r, ) to (r, 1)\n",
    "y_train = y_train.view(y_train.shape[0], 1)\n",
    "y_test = y_test.view(y_test.shape[0], 1)\n"
   ]
  },
  {
   "cell_type": "code",
   "execution_count": 4,
   "metadata": {},
   "outputs": [],
   "source": [
    "# 1) Model\n",
    "\n",
    "# f = weight*x + bias (Then apply a sigmoid function at the end)\n",
    "class LogisticRegression(nn.Module):\n",
    "\n",
    "    def __init__(self, n_input_features):\n",
    "        super(LogisticRegression, self).__init__()\n",
    "        self.linear = nn.Linear(n_input_features, 1) # output size is just 1\n",
    "\n",
    "    def forward(self, x):\n",
    "        y_predicted = torch.sigmoid(self.linear(x))\n",
    "        return y_predicted\n",
    "\n",
    "model = LogisticRegression(n_features)"
   ]
  },
  {
   "cell_type": "code",
   "execution_count": 5,
   "metadata": {},
   "outputs": [],
   "source": [
    "# 2) Loss and Optimizer\n",
    "\n",
    "learning_rate = 0.01\n",
    "criterion = nn.BCELoss() # Binary Cross-entropy loss\n",
    "optimizer = torch.optim.SGD(model.parameters(), lr=learning_rate)"
   ]
  },
  {
   "cell_type": "code",
   "execution_count": 6,
   "metadata": {},
   "outputs": [
    {
     "name": "stdout",
     "output_type": "stream",
     "text": [
      "epoch: 10, loss: 0.6862\n",
      "epoch: 20, loss: 0.5371\n",
      "epoch: 30, loss: 0.4497\n",
      "epoch: 40, loss: 0.3927\n",
      "epoch: 50, loss: 0.3523\n",
      "epoch: 60, loss: 0.3220\n",
      "epoch: 70, loss: 0.2983\n",
      "epoch: 80, loss: 0.2792\n",
      "epoch: 90, loss: 0.2633\n",
      "epoch: 100, loss: 0.2499\n"
     ]
    }
   ],
   "source": [
    "# 3) Training Loop\n",
    "\n",
    "num_epochs = 100\n",
    "\n",
    "for epoch in range(num_epochs):\n",
    "    # Forward pass and loss\n",
    "    y_predicted = model(X_train)\n",
    "    loss = criterion(y_predicted, y_train)\n",
    "\n",
    "    # Backward pass (backpropagation)\n",
    "    loss.backward()\n",
    "\n",
    "    # update\n",
    "    optimizer.step() # update the weights\n",
    "    optimizer.zero_grad() # empty the gradients\n",
    "\n",
    "    if (epoch + 1) % 10 == 0:\n",
    "        print(f\"epoch: {epoch+1}, loss: {loss.item():.4f}\")"
   ]
  },
  {
   "cell_type": "code",
   "execution_count": 7,
   "metadata": {},
   "outputs": [
    {
     "name": "stdout",
     "output_type": "stream",
     "text": [
      "accuracy = 0.9123\n"
     ]
    }
   ],
   "source": [
    "# Evaluate our model\n",
    "\n",
    "# The evaluation should not be part of our computation graph (calculate loss and udpdate weights and gradients). That's why we do the below!\n",
    "with torch.no_grad():\n",
    "    y_predicted = model(X_test) # we will get values between 0 and 1 (sigmoid)\n",
    "    y_predicted_class = y_predicted.round()\n",
    "    accuracy = y_predicted_class.eq(y_test).sum() / float(y_test.shape[0])  # eq() = equal function\n",
    "    print(f'accuracy = {accuracy:.4f}')"
   ]
  },
  {
   "cell_type": "code",
   "execution_count": null,
   "metadata": {},
   "outputs": [],
   "source": []
  }
 ],
 "metadata": {
  "kernelspec": {
   "display_name": "pytorch_tuto",
   "language": "python",
   "name": "python3"
  },
  "language_info": {
   "codemirror_mode": {
    "name": "ipython",
    "version": 3
   },
   "file_extension": ".py",
   "mimetype": "text/x-python",
   "name": "python",
   "nbconvert_exporter": "python",
   "pygments_lexer": "ipython3",
   "version": "3.10.9"
  },
  "orig_nbformat": 4,
  "vscode": {
   "interpreter": {
    "hash": "13c53d24e4d88d3a912c0a93e107616508f30ae1ad473cd537d575b47c4ae4a7"
   }
  }
 },
 "nbformat": 4,
 "nbformat_minor": 2
}
