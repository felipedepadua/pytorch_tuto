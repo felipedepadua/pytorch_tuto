{
 "cells": [
  {
   "cell_type": "code",
   "execution_count": 71,
   "metadata": {},
   "outputs": [],
   "source": [
    "# NOW LET'S START USING PYTORCH FOR EVERYTHING  (VIDEO #6)\n",
    "# Prediction: Pytorch Model\n",
    "# Gradients Computation: Autograd\n",
    "# Loss Computation: Pytorch loss\n",
    "# Parameter Updates: Pytorch Optimizer\n",
    "\n",
    "import torch"
   ]
  },
  {
   "cell_type": "code",
   "execution_count": 72,
   "metadata": {},
   "outputs": [],
   "source": [
    "# 1) Design model (input size, output size, forward pass)\n",
    "# 2) Costruct the Loss and Optimizer\n",
    "# 3) Training loop\n",
    "#       - Forward pass: compute prediction\n",
    "#       - Backward pass: compure gradients\n",
    "#       - Update our weights\n",
    "#       - Iterate this a couple of times (epochs)\n",
    "\n",
    "import torch.nn as nn"
   ]
  },
  {
   "cell_type": "code",
   "execution_count": 73,
   "metadata": {},
   "outputs": [
    {
     "name": "stdout",
     "output_type": "stream",
     "text": [
      "4 1\n"
     ]
    }
   ],
   "source": [
    "# f = w * x\n",
    "\n",
    "# f = 2 * x\n",
    "X = torch.tensor([[1],[2],[3],[4]], dtype=torch.float32) # needs to be 2D-array now for using the model [# rows = # of samples, # of cols = # of features]\n",
    "Y = torch.tensor([[2],[4],[6],[8]], dtype=torch.float32) # same for Y\n",
    "\n",
    "X_test = torch.tensor([5], dtype=torch.float32)\n",
    "\n",
    "n_samples, n_features = X.shape\n",
    "print(n_samples, n_features) # 4 by 1 [4 samples and 1 feature for each sample]\n",
    "\n",
    "# we don't need to define the wights anymore\n",
    "\n",
    "input_size = n_features\n",
    "output_size = 1\n",
    "model = nn.Linear(input_size, output_size)  # Linear Regression"
   ]
  },
  {
   "cell_type": "code",
   "execution_count": 74,
   "metadata": {},
   "outputs": [],
   "source": [
    "# Or a custom Linear Regression model\n",
    "class LinearRegression(nn.Module):\n",
    "    def __init__(self, input_dimension, output_dimension):\n",
    "        super(LinearRegression, self).__init__()\n",
    "        # define our layers\n",
    "        self.lin = nn.Linear(input_dimension, output_dimension)\n",
    "\n",
    "    def forward(self, x):\n",
    "        return self.lin(x)\n",
    "\n",
    "# Uncomment this line (and comment out the previous model declaration) if you want to test using this custom model. \n",
    "# PS: It will do exactly the same as \"model = nn.Linear(input_size, output_size)\"\n",
    "# model = LinearRegression(input_size, output_size)\n",
    "        "
   ]
  },
  {
   "cell_type": "code",
   "execution_count": 75,
   "metadata": {},
   "outputs": [
    {
     "name": "stdout",
     "output_type": "stream",
     "text": [
      "Prediction before training: f(5) = -2.870\n",
      "Epoch: 1: w = -0.311, b = 0.683, loss = 46.90245056\n",
      "Epoch: 6: w = 0.812, b = 1.043, loss = 7.77999020\n",
      "Epoch: 11: w = 1.266, b = 1.176, loss = 1.48021698\n",
      "Epoch: 16: w = 1.452, b = 1.218, loss = 0.46014649\n",
      "Epoch: 21: w = 1.530, b = 1.224, loss = 0.28950968\n",
      "Epoch: 26: w = 1.565, b = 1.215, loss = 0.25569773\n",
      "Epoch: 31: w = 1.583, b = 1.201, loss = 0.24408150\n",
      "Epoch: 36: w = 1.594, b = 1.184, loss = 0.23621805\n",
      "Epoch: 41: w = 1.602, b = 1.167, loss = 0.22913538\n",
      "Epoch: 46: w = 1.608, b = 1.150, loss = 0.22234994\n",
      "Epoch: 51: w = 1.614, b = 1.133, loss = 0.21577929\n",
      "Epoch: 56: w = 1.620, b = 1.116, loss = 0.20940500\n",
      "Epoch: 61: w = 1.626, b = 1.100, loss = 0.20321943\n",
      "Epoch: 66: w = 1.631, b = 1.083, loss = 0.19721648\n",
      "Epoch: 71: w = 1.637, b = 1.067, loss = 0.19139090\n",
      "Epoch: 76: w = 1.642, b = 1.051, loss = 0.18573749\n",
      "Epoch: 81: w = 1.648, b = 1.036, loss = 0.18025096\n",
      "Epoch: 86: w = 1.653, b = 1.020, loss = 0.17492659\n",
      "Epoch: 91: w = 1.658, b = 1.005, loss = 0.16975942\n",
      "Epoch: 96: w = 1.663, b = 0.990, loss = 0.16474496\n",
      "Epoch: 101: w = 1.668, b = 0.975, loss = 0.15987863\n",
      "Prediction after training: f(5) = 9.317\n"
     ]
    }
   ],
   "source": [
    "print(f'Prediction before training: f(5) = {model(X_test).item():.3f}') #.item() to get the one and only value\n",
    "\n",
    "# Training\n",
    "lr = 0.01  # learning rate\n",
    "epochs = 101\n",
    "\n",
    "loss = nn.MSELoss() # exactly what we implemented before\n",
    "optimizer = torch.optim.SGD(model.parameters(), lr=lr)  # SGD = Stochastic Gradient Descent ; \"model.parameters()\" is equivalent to the weights\n",
    "\n",
    "for epoch in range(epochs):\n",
    "    # prediction = forward pass\n",
    "    y_pred = model(X)\n",
    "\n",
    "    # Loss\n",
    "    l = loss(Y, y_pred)\n",
    "\n",
    "    # Gradients = backward pass\n",
    "    l.backward() # dl/dw\n",
    "\n",
    "    # Update weights\n",
    "    optimizer.step()\n",
    "\n",
    "    # We have to empty the gradients\n",
    "    optimizer.zero_grad()\n",
    "\n",
    "    if epoch % 5 == 0: # Print every 5 steps\n",
    "        [weight, bias] = model.parameters()\n",
    "        print(f'Epoch: {epoch+1}: w = {weight[0][0].item():.3f}, b = {bias.item():.3f}, loss = {l:.8f}') \n",
    "        # PS: weight is a list of list and, for this case, only has one element (simple linear function: wx + bias).\n",
    "\n",
    "\n",
    "print(f'Prediction after training: f(5) = {model(X_test).item():.3f}')\n",
    "\n",
    "# You can play around with the learning rate and epochs to improve \"accuracy VS speed\" \n",
    "# [more epochs will get closer and closer, while a lower LR will make changes smaller]"
   ]
  },
  {
   "cell_type": "code",
   "execution_count": 76,
   "metadata": {},
   "outputs": [],
   "source": [
    "# FOR: Epoch: 101: w = 1.668, b = 0.975, loss = 0.15987863\n",
    "# f(x) = wx + bias\n",
    "# f(5) = 1.668*5 + 0.975\n",
    "# f(5) = 9.317 "
   ]
  }
 ],
 "metadata": {
  "kernelspec": {
   "display_name": "pytorch_tuto",
   "language": "python",
   "name": "python3"
  },
  "language_info": {
   "codemirror_mode": {
    "name": "ipython",
    "version": 3
   },
   "file_extension": ".py",
   "mimetype": "text/x-python",
   "name": "python",
   "nbconvert_exporter": "python",
   "pygments_lexer": "ipython3",
   "version": "3.10.9"
  },
  "orig_nbformat": 4,
  "vscode": {
   "interpreter": {
    "hash": "13c53d24e4d88d3a912c0a93e107616508f30ae1ad473cd537d575b47c4ae4a7"
   }
  }
 },
 "nbformat": 4,
 "nbformat_minor": 2
}
