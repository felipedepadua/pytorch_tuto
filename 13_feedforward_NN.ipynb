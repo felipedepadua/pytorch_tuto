{
 "cells": [
  {
   "cell_type": "code",
   "execution_count": 9,
   "metadata": {},
   "outputs": [],
   "source": [
    "import torch\n",
    "import torch.nn as nn\n",
    "import torchvision \n",
    "import torchvision.transforms as T\n",
    "import matplotlib.pyplot as plt"
   ]
  },
  {
   "cell_type": "code",
   "execution_count": 10,
   "metadata": {},
   "outputs": [],
   "source": [
    "# Device config\n",
    "device = torch.device('cuda' if torch.cuda.is_available() else 'cpu')"
   ]
  },
  {
   "cell_type": "code",
   "execution_count": 11,
   "metadata": {},
   "outputs": [],
   "source": [
    "# Hyper parameters\n",
    "input_size = 784 # 28*28 (We will flatten image to be a 1-D array)\n",
    "hidden_size = 100 # You can try out different sizes\n",
    "num_classes = 10 # digits from 0 to 9\n",
    "epochs = 2 # You can set this to a higher value (this is just for quicker demo)\n",
    "batch_size = 100\n",
    "learning_rate = 0.01"
   ]
  },
  {
   "cell_type": "code",
   "execution_count": 12,
   "metadata": {},
   "outputs": [
    {
     "name": "stdout",
     "output_type": "stream",
     "text": [
      "torch.Size([100, 1, 28, 28]) torch.Size([100])\n"
     ]
    }
   ],
   "source": [
    "# Import MNIST dataset\n",
    "train_dataset = torchvision.datasets.MNIST(\n",
    "    root='./data',\n",
    "    train=True,\n",
    "    transform=T.ToTensor(),\n",
    "    download=True # should be downloaded if not available already\n",
    ")\n",
    "\n",
    "test_dataset = torchvision.datasets.MNIST(\n",
    "    root='./data',\n",
    "    train=False,\n",
    "    transform=T.ToTensor() \n",
    "    # No neede to download it anymore\n",
    ")\n",
    "\n",
    "train_loader = torch.utils.data.DataLoader(dataset=train_dataset, batch_size=batch_size, shuffle=True)\n",
    "test_loader = torch.utils.data.DataLoader(dataset=test_dataset, batch_size=batch_size, shuffle=False) # Shuffling doesn't matter for the evaluation\n",
    "\n",
    "# Let's see one batch\n",
    "examples = iter(train_loader)\n",
    "samples, labels = next(examples)\n",
    "print(samples.shape, labels.shape)\n",
    "# FROM ABOVE: torch.Size([100, 1, 28, 28]) -> 100 batches, 1 channel (only one color), 28, 28"
   ]
  },
  {
   "cell_type": "code",
   "execution_count": 13,
   "metadata": {},
   "outputs": [
    {
     "data": {
      "image/png": "[encoded data removed]",
      "text/plain": [
       "<Figure size 640x480 with 6 Axes>"
      ]
     },
     "metadata": {},
     "output_type": "display_data"
    }
   ],
   "source": [
    "# print 6 examples\n",
    "for i in range(6):\n",
    "    plt.subplot(2, 3, i+1) # 2 rows, 3 cols\n",
    "    plt.imshow(samples[i][0], cmap='gray') # [0] for first channel\n",
    "\n",
    "plt.show()"
   ]
  },
  {
   "cell_type": "code",
   "execution_count": 14,
   "metadata": {},
   "outputs": [],
   "source": [
    "class NeuralNet(nn.Module):\n",
    "    def __init__(self, input_size, hidden_size, num_classes):\n",
    "        super(NeuralNet, self).__init__()\n",
    "        self.l1 = nn.Linear(input_size, hidden_size)\n",
    "        self.relu = nn.ReLU()\n",
    "        self.l2 = nn.Linear(hidden_size, num_classes)\n",
    "        # We usually do not add the activation function here for Multiclass Classification\n",
    "\n",
    "    def forward(self, x):\n",
    "        out = self.l1(x)\n",
    "        out = self.relu(out)  \n",
    "        out = self.l2(out)\n",
    "        # we will use the cross-entropy loss, which will apply the SoftMax for us\n",
    "        return out"
   ]
  },
  {
   "cell_type": "code",
   "execution_count": 15,
   "metadata": {},
   "outputs": [
    {
     "name": "stdout",
     "output_type": "stream",
     "text": [
      "epoch: 1 / 2, step: 100 / 600, loss: 0.4195\n",
      "epoch: 1 / 2, step: 200 / 600, loss: 0.2409\n",
      "epoch: 1 / 2, step: 300 / 600, loss: 0.2906\n",
      "epoch: 1 / 2, step: 400 / 600, loss: 0.1354\n",
      "epoch: 1 / 2, step: 500 / 600, loss: 0.0949\n",
      "epoch: 1 / 2, step: 600 / 600, loss: 0.0880\n",
      "epoch: 2 / 2, step: 100 / 600, loss: 0.1779\n",
      "epoch: 2 / 2, step: 200 / 600, loss: 0.0664\n",
      "epoch: 2 / 2, step: 300 / 600, loss: 0.1091\n",
      "epoch: 2 / 2, step: 400 / 600, loss: 0.1800\n",
      "epoch: 2 / 2, step: 500 / 600, loss: 0.2639\n",
      "epoch: 2 / 2, step: 600 / 600, loss: 0.1065\n"
     ]
    }
   ],
   "source": [
    "model = NeuralNet(input_size, hidden_size, num_classes)\n",
    "\n",
    "# Loss and optimizer\n",
    "criterion = nn.CrossEntropyLoss() # PS: This will apply the softmax\n",
    "optimizer = torch.optim.Adam(model.parameters(), lr=learning_rate) \n",
    "# Adam is an alternative method for Stochastic Gradient Descent\n",
    "# Adam vs SGD: https://towardsai.net/p/l/why-should-adam-optimizer-not-be-the-default-learning-algorithm\n",
    "\n",
    "# Training Loop\n",
    "n_total_steps = len(train_loader)\n",
    "\n",
    "for epoch in range(epochs):\n",
    "    for i, (images, labels) in enumerate(train_loader):\n",
    "        # reshape our image first -> From [100, 1, 28, 28] to [100, 784]\n",
    "        # 'to()' will push it to either the CPU or GPU\n",
    "        images = images.reshape(-1, 28*28).to(device) # '-1' means that tensor will automatically find that for us\n",
    "        labels = labels.to(device)\n",
    "\n",
    "        # forward pass\n",
    "        outputs = model(images)\n",
    "        loss = criterion(outputs, labels) # predictions ('outputs') vs actual Y ('labels')\n",
    "\n",
    "        # backward pass\n",
    "        optimizer.zero_grad() # empty the gradients\n",
    "        loss.backward()\n",
    "        optimizer.step() # update setp (udpate the parameters for us)\n",
    "\n",
    "        if (i+1) % 100 == 0:\n",
    "            print(f'epoch: {epoch+1} / {epochs}, step: {i+1} / {n_total_steps}, loss: {loss.item():.4f}')"
   ]
  },
  {
   "cell_type": "code",
   "execution_count": 17,
   "metadata": {},
   "outputs": [
    {
     "name": "stdout",
     "output_type": "stream",
     "text": [
      "accuracy: 96.07%\n"
     ]
    }
   ],
   "source": [
    "# Test (evaluation)\n",
    "\n",
    "# we don't want to compute the gradients for the steps\n",
    "with torch.no_grad():\n",
    "    n_correct_pred = 0\n",
    "    n_samples = 0\n",
    "\n",
    "    for images, labels in test_loader:\n",
    "        # reshape them as well\n",
    "        images = images.reshape(-1, 28*28).to(device)\n",
    "        labels = labels.to(device)\n",
    "        outputs = model(images) # Our model is already trained here\n",
    "\n",
    "        # returns value, index (only interested in the latter, which is the class label)\n",
    "        _, predictions = torch.max(outputs, 1) # dimension 1\n",
    "        n_samples += labels.shape[0] # number of samples in the current batch (here it is 100)\n",
    "        n_correct_pred += (predictions == labels).sum().item() # Each correct prediciton will add 1\n",
    "\n",
    "    acc = 100.0 * (n_correct_pred / n_samples)\n",
    "    print(f'accuracy: {acc}%')"
   ]
  },
  {
   "cell_type": "code",
   "execution_count": null,
   "metadata": {},
   "outputs": [],
   "source": []
  }
 ],
 "metadata": {
  "kernelspec": {
   "display_name": "pytorch_tuto",
   "language": "python",
   "name": "python3"
  },
  "language_info": {
   "codemirror_mode": {
    "name": "ipython",
    "version": 3
   },
   "file_extension": ".py",
   "mimetype": "text/x-python",
   "name": "python",
   "nbconvert_exporter": "python",
   "pygments_lexer": "ipython3",
   "version": "3.10.9"
  },
  "orig_nbformat": 4,
  "vscode": {
   "interpreter": {
    "hash": "13c53d24e4d88d3a912c0a93e107616508f30ae1ad473cd537d575b47c4ae4a7"
   }
  }
 },
 "nbformat": 4,
 "nbformat_minor": 2
}
