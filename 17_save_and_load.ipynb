{
 "cells": [
  {
   "cell_type": "code",
   "execution_count": 1,
   "metadata": {},
   "outputs": [
    {
     "data": {
      "text/plain": [
       "' 2 DIFFERENT WAYS OF SAVING\\n# 1) lazy way: save whole model\\ntorch.save(model, PATH)\\n# model class must be defined somewhere\\nmodel = torch.load(PATH)\\nmodel.eval()\\n\\n# 2) recommended way: save only the state_dict\\ntorch.save(model.state_dict(), PATH)\\n# model must be created again with parameters\\nmodel = Model(*args, **kwargs)\\nmodel.load_state_dict(torch.load(PATH))\\nmodel.eval()\\n'"
      ]
     },
     "execution_count": 1,
     "metadata": {},
     "output_type": "execute_result"
    }
   ],
   "source": [
    "import torch\n",
    "import torch.nn as nn\n",
    "\n",
    "''' 3 DIFFERENT METHODS TO REMEMBER:\n",
    " - torch.save(arg, PATH) # can be model, tensor, or dictionary\n",
    " - torch.load(PATH)\n",
    " - torch.load_state_dict(arg)\n",
    "'''\n",
    "\n",
    "''' 2 DIFFERENT WAYS OF SAVING\n",
    "# 1) lazy way: save whole model\n",
    "torch.save(model, PATH)\n",
    "\n",
    "# model class must be defined somewhere\n",
    "model = torch.load(PATH)\n",
    "model.eval()\n",
    "\n",
    "# 2) recommended way: save only the state_dict\n",
    "torch.save(model.state_dict(), PATH)\n",
    "\n",
    "# model must be created again with parameters\n",
    "model = Model(*args, **kwargs)\n",
    "model.load_state_dict(torch.load(PATH))\n",
    "model.eval()\n",
    "'''"
   ]
  },
  {
   "cell_type": "code",
   "execution_count": 2,
   "metadata": {},
   "outputs": [],
   "source": [
    "class Model(nn.Module):\n",
    "    def __init__(self, n_input_features):\n",
    "        super(Model, self).__init__()\n",
    "        self.linear = nn.Linear(n_input_features, 1)\n",
    "\n",
    "    def forward(self, x):\n",
    "        y_pred = torch.sigmoid(self.linear(x))\n",
    "        return y_pred\n",
    "\n",
    "model = Model(n_input_features=6)\n",
    "# train your model..."
   ]
  },
  {
   "cell_type": "code",
   "execution_count": 4,
   "metadata": {},
   "outputs": [
    {
     "name": "stdout",
     "output_type": "stream",
     "text": [
      "Parameter containing:\n",
      "tensor([[-0.2928,  0.3500,  0.3167, -0.1962,  0.0105, -0.0184]],\n",
      "       requires_grad=True)\n",
      "Parameter containing:\n",
      "tensor([-0.1554], requires_grad=True)\n",
      "Parameter containing:\n",
      "tensor([[-0.2928,  0.3500,  0.3167, -0.1962,  0.0105, -0.0184]],\n",
      "       requires_grad=True)\n",
      "Parameter containing:\n",
      "tensor([-0.1554], requires_grad=True)\n"
     ]
    }
   ],
   "source": [
    "####################save all ######################################\n",
    "for param in model.parameters():\n",
    "    print(param)\n",
    "\n",
    "# save and load entire model\n",
    "\n",
    "FILE = \"17_model.pth\"\n",
    "torch.save(model, FILE)\n",
    "\n",
    "loaded_model = torch.load(FILE)\n",
    "loaded_model.eval()\n",
    "\n",
    "for param in loaded_model.parameters():\n",
    "    print(param)"
   ]
  },
  {
   "cell_type": "code",
   "execution_count": 5,
   "metadata": {},
   "outputs": [
    {
     "name": "stdout",
     "output_type": "stream",
     "text": [
      "OrderedDict([('linear.weight', tensor([[-0.2928,  0.3500,  0.3167, -0.1962,  0.0105, -0.0184]])), ('linear.bias', tensor([-0.1554]))])\n",
      "OrderedDict([('linear.weight', tensor([[-0.2928,  0.3500,  0.3167, -0.1962,  0.0105, -0.0184]])), ('linear.bias', tensor([-0.1554]))])\n"
     ]
    }
   ],
   "source": [
    "############save only state dict #########################\n",
    "\n",
    "# save only state dict\n",
    "FILE = \"17_model2.pth\"\n",
    "torch.save(model.state_dict(), FILE)\n",
    "\n",
    "print(model.state_dict())\n",
    "loaded_model = Model(n_input_features=6)\n",
    "loaded_model.load_state_dict(torch.load(FILE)) # it takes the loaded dictionary, not the path file itself\n",
    "loaded_model.eval()\n",
    "\n",
    "print(loaded_model.state_dict())"
   ]
  },
  {
   "cell_type": "code",
   "execution_count": 6,
   "metadata": {},
   "outputs": [
    {
     "name": "stdout",
     "output_type": "stream",
     "text": [
      "{'state': {}, 'param_groups': [{'lr': 0.01, 'momentum': 0, 'dampening': 0, 'weight_decay': 0, 'nesterov': False, 'maximize': False, 'foreach': None, 'differentiable': False, 'params': [0, 1]}]}\n",
      "{'state': {}, 'param_groups': [{'lr': 0.01, 'momentum': 0, 'dampening': 0, 'weight_decay': 0, 'nesterov': False, 'maximize': False, 'foreach': None, 'differentiable': False, 'params': [0, 1]}]}\n"
     ]
    }
   ],
   "source": [
    "###########load checkpoint#####################\n",
    "learning_rate = 0.01\n",
    "optimizer = torch.optim.SGD(model.parameters(), lr=learning_rate)\n",
    "\n",
    "checkpoint = {\n",
    "\"epoch\": 90,\n",
    "\"model_state\": model.state_dict(),\n",
    "\"optim_state\": optimizer.state_dict()\n",
    "}\n",
    "print(optimizer.state_dict())\n",
    "FILE = \"17_checkpoint.pth\"\n",
    "torch.save(checkpoint, FILE)\n",
    "\n",
    "model = Model(n_input_features=6)\n",
    "optimizer = torch.optim.SGD(model.parameters(), lr=0)\n",
    "\n",
    "checkpoint = torch.load(FILE)\n",
    "model.load_state_dict(checkpoint['model_state'])\n",
    "optimizer.load_state_dict(checkpoint['optim_state'])\n",
    "epoch = checkpoint['epoch']\n",
    "\n",
    "model.eval()\n",
    "# - or -\n",
    "# model.train()\n",
    "\n",
    "print(optimizer.state_dict())\n",
    "\n",
    "# Remember that you must call model.eval() to set dropout and batch normalization layers \n",
    "# to evaluation mode before running inference. Failing to do this will yield \n",
    "# inconsistent inference results. If you wish to resuming training, \n",
    "# call model.train() to ensure these layers are in training mode."
   ]
  },
  {
   "cell_type": "code",
   "execution_count": 7,
   "metadata": {},
   "outputs": [
    {
     "data": {
      "text/plain": [
       "' SAVING ON GPU/CPU \\n# 1) Save on GPU, Load on CPU\\ndevice = torch.device(\"cuda\")\\nmodel.to(device)\\ntorch.save(model.state_dict(), PATH)\\ndevice = torch.device(\\'cpu\\')\\nmodel = Model(*args, **kwargs)\\nmodel.load_state_dict(torch.load(PATH, map_location=device))\\n# 2) Save on GPU, Load on GPU\\ndevice = torch.device(\"cuda\")\\nmodel.to(device)\\ntorch.save(model.state_dict(), PATH)\\nmodel = Model(*args, **kwargs)\\nmodel.load_state_dict(torch.load(PATH))\\nmodel.to(device)\\n# Note: Be sure to use the .to(torch.device(\\'cuda\\')) function \\n# on all model inputs, too!\\n# 3) Save on CPU, Load on GPU\\ntorch.save(model.state_dict(), PATH)\\ndevice = torch.device(\"cuda\")\\nmodel = Model(*args, **kwargs)\\nmodel.load_state_dict(torch.load(PATH, map_location=\"cuda:0\"))  # Choose whatever GPU device number you want\\nmodel.to(device)\\n# This loads the model to a given GPU device. \\n# Next, be sure to call model.to(torch.device(\\'cuda\\')) to convert the model’s parameter tensors to CUDA tensors\\n'"
      ]
     },
     "execution_count": 7,
     "metadata": {},
     "output_type": "execute_result"
    }
   ],
   "source": [
    "\"\"\" SAVING ON GPU/CPU \n",
    "# 1) Save on GPU, Load on CPU\n",
    "device = torch.device(\"cuda\")\n",
    "model.to(device)\n",
    "torch.save(model.state_dict(), PATH)\n",
    "\n",
    "device = torch.device('cpu')\n",
    "model = Model(*args, **kwargs)\n",
    "model.load_state_dict(torch.load(PATH, map_location=device))\n",
    "\n",
    "# 2) Save on GPU, Load on GPU\n",
    "device = torch.device(\"cuda\")\n",
    "model.to(device)\n",
    "torch.save(model.state_dict(), PATH)\n",
    "\n",
    "model = Model(*args, **kwargs)\n",
    "model.load_state_dict(torch.load(PATH))\n",
    "model.to(device)\n",
    "\n",
    "# Note: Be sure to use the .to(torch.device('cuda')) function \n",
    "# on all model inputs, too!\n",
    "\n",
    "# 3) Save on CPU, Load on GPU\n",
    "torch.save(model.state_dict(), PATH)\n",
    "device = torch.device(\"cuda\")\n",
    "model = Model(*args, **kwargs)\n",
    "model.load_state_dict(torch.load(PATH, map_location=\"cuda:0\"))  # Choose whatever GPU device number you want\n",
    "model.to(device)\n",
    "\n",
    "# This loads the model to a given GPU device. \n",
    "# Next, be sure to call model.to(torch.device('cuda')) to convert the model’s parameter tensors to CUDA tensors\n",
    "\"\"\""
   ]
  }
 ],
 "metadata": {
  "kernelspec": {
   "display_name": "pytorch_tuto",
   "language": "python",
   "name": "python3"
  },
  "language_info": {
   "codemirror_mode": {
    "name": "ipython",
    "version": 3
   },
   "file_extension": ".py",
   "mimetype": "text/x-python",
   "name": "python",
   "nbconvert_exporter": "python",
   "pygments_lexer": "ipython3",
   "version": "3.10.9"
  },
  "orig_nbformat": 4,
  "vscode": {
   "interpreter": {
    "hash": "13c53d24e4d88d3a912c0a93e107616508f30ae1ad473cd537d575b47c4ae4a7"
   }
  }
 },
 "nbformat": 4,
 "nbformat_minor": 2
}
